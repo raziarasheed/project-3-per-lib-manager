{
  "nbformat": 4,
  "nbformat_minor": 0,
  "metadata": {
    "colab": {
      "provenance": [],
      "authorship_tag": "ABX9TyMlQUXxCfOfV8RGLNtH00TC",
      "include_colab_link": true
    },
    "kernelspec": {
      "name": "python3",
      "display_name": "Python 3"
    },
    "language_info": {
      "name": "python"
    }
  },
  "cells": [
    {
      "cell_type": "markdown",
      "metadata": {
        "id": "view-in-github",
        "colab_type": "text"
      },
      "source": [
        "<a href=\"https://colab.research.google.com/github/raziarasheed/project-3-per-lib-manager/blob/main/personal_library_manager_.ipynb\" target=\"_parent\"><img src=\"https://colab.research.google.com/assets/colab-badge.svg\" alt=\"Open In Colab\"/></a>"
      ]
    },
    {
      "cell_type": "code",
      "execution_count": null,
      "metadata": {
        "id": "IYyfAhGDoHjx"
      },
      "outputs": [],
      "source": [
        "# In-memory list to store books\n",
        "library = []\n",
        "\n",
        "# 1. Add a Book\n",
        "def add_book():\n",
        "    print(\"\\nAdd a New Book\")\n",
        "    title = input(\"Enter the book title: \").strip()\n",
        "    author = input(\"Enter the author name: \").strip()\n",
        "    genre = input(\"Enter the genre: \").strip()\n",
        "\n",
        "    book = {\n",
        "        \"title\": title,\n",
        "        \"author\": author,\n",
        "        \"genre\": genre\n",
        "    }\n",
        "\n",
        "    library.append(book)\n",
        "    print(f'\"{title}\" by {author} has been added to your library.')\n",
        "\n",
        "# 2. Remove a Book\n",
        "def remove_book():\n",
        "    if not library:\n",
        "        print(\"\\nYour library is empty.\")\n",
        "        return\n",
        "\n",
        "    title = input(\"Enter the title of the book to remove: \").strip()\n",
        "\n",
        "    for book in library:\n",
        "        if book[\"title\"].lower() == title.lower():\n",
        "            library.remove(book)\n",
        "            print(f'\"{title}\" has been removed from your library.')\n",
        "            return\n",
        "\n",
        "    print(f'No book found with the title \"{title}\".')\n",
        "\n",
        "# 3. View All Books\n",
        "def view_books():\n",
        "    if not library:\n",
        "        print(\"\\nYour library is empty.\")\n",
        "        return\n",
        "\n",
        "    print(\"\\nYour Library:\")\n",
        "    for index, book in enumerate(library, start=1):\n",
        "        print(f'{index}. \"{book[\"title\"]}\" by {book[\"author\"]} ({book[\"genre\"]})')\n",
        "\n",
        "# 4. Main Menu Loop\n",
        "def main():\n",
        "    while True:\n",
        "        print(\"\\nPersonal Library Menu\")\n",
        "        print(\"1. Add Book\")\n",
        "        print(\"2. Remove Book\")\n",
        "        print(\"3. View Library\")\n",
        "        print(\"4. Exit\")\n",
        "\n",
        "        choice = input(\"Choose an option (1-4): \").strip()\n",
        "\n",
        "        if choice == '1':\n",
        "            add_book()\n",
        "        elif choice == '2':\n",
        "            remove_book()\n",
        "        elif choice == '3':\n",
        "            view_books()\n",
        "        elif choice == '4':\n",
        "            print(\"Goodbye!\")\n",
        "            break\n",
        "        else:\n",
        "            print(\"Invalid choice. Please enter a number from 1 to 4.\")\n",
        "\n",
        "# Run the program\n",
        "main()\n"
      ]
    }
  ]
}